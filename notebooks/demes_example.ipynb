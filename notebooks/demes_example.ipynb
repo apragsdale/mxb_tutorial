{
 "cells": [
  {
   "cell_type": "markdown",
   "id": "allied-presentation",
   "metadata": {},
   "source": [
    "# Using `demes` for visualization and inference\n",
    "\n",
    "Here, we'll get a handle on the `demes` demographic model specification format, look at a few models via `demesdraw`, and run a simple demographic inference using `moments.Demes`. First, let's just take a look at how demographic models are specified in `demes` and explore some visualizations."
   ]
  },
  {
   "cell_type": "code",
   "execution_count": 2,
   "id": "going-question",
   "metadata": {},
   "outputs": [],
   "source": [
    "import demes\n",
    "import demesdraw\n",
    "import matplotlib.pylab as plt"
   ]
  },
  {
   "cell_type": "markdown",
   "id": "technological-champagne",
   "metadata": {},
   "source": [
    "I won't go into much detail here about the `demes` spec - you should instead read through the documentation [here](https://popsim-consortium.github.io/demes-docs/main/index.html). This notebook will  assume you know the basics, so take at least a quick read over there. In short, a demes model includes demes (populations) and the relationships between them, which could be ancestors/descendants, migrations, or instantaneous admixture (pulses). A model is specified as a YAML file, and includes some extra basic information needed to describe the model."
   ]
  },
  {
   "cell_type": "markdown",
   "id": "interstate-sally",
   "metadata": {},
   "source": [
    "## Zigzag model\n",
    "\n",
    "As a quick example, a zigzag or sawtooth model is a single-population demography in which the size alternates between exponential growth and decline. I copied this model from the `demes` examples directory."
   ]
  },
  {
   "cell_type": "code",
   "execution_count": 14,
   "id": "excited-sociology",
   "metadata": {},
   "outputs": [
    {
     "data": {
      "text/markdown": [
       "```yaml\n",
       "description: A single population model with epochs of exponential growth and decay.\n",
       "doi:\n",
       "  - https://doi.org/10.1038/ng.3015\n",
       "time_units: generations\n",
       "generation_time: 30\n",
       "demes: \n",
       "  - id: generic\n",
       "    description: All epochs wrapped into the same population, so that epoch intervals\n",
       "      do not overlap, and they tile the entire existence of the population (all time,\n",
       "      in this case).\n",
       "    epochs:\n",
       "    - end_time: 34133.31\n",
       "      start_size: 7156\n",
       "    - end_time: 8533.33\n",
       "      end_size: 71560\n",
       "    - end_time: 2133.33\n",
       "      end_size: 7156\n",
       "    - end_time: 533.33\n",
       "      end_size: 71560\n",
       "    - end_time: 133.33\n",
       "      end_size: 7156\n",
       "    - end_time: 33.333\n",
       "      end_size: 71560\n",
       "    - end_time: 0\n",
       "      end_size: 71560\n",
       "```"
      ],
      "text/plain": [
       "<IPython.core.display.Markdown object>"
      ]
     },
     "execution_count": 14,
     "metadata": {},
     "output_type": "execute_result"
    }
   ],
   "source": [
    "from IPython.display import Markdown as md\n",
    "\n",
    "with open(\"../models/zigzag.yml\") as f:\n",
    "    lines = f.read()\n",
    "\n",
    "md(\"```yaml\\n\" + lines + \"```\")"
   ]
  },
  {
   "cell_type": "code",
   "execution_count": null,
   "id": "selected-refrigerator",
   "metadata": {},
   "outputs": [],
   "source": []
  }
 ],
 "metadata": {
  "kernelspec": {
   "display_name": "Python 3",
   "language": "python",
   "name": "python3"
  },
  "language_info": {
   "codemirror_mode": {
    "name": "ipython",
    "version": 3
   },
   "file_extension": ".py",
   "mimetype": "text/x-python",
   "name": "python",
   "nbconvert_exporter": "python",
   "pygments_lexer": "ipython3",
   "version": "3.8.8"
  }
 },
 "nbformat": 4,
 "nbformat_minor": 5
}
